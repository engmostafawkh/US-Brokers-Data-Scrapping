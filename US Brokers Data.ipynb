{
 "cells": [
  {
   "cell_type": "code",
   "execution_count": 1,
   "id": "6c830cc4",
   "metadata": {},
   "outputs": [],
   "source": [
    "# Import Selenium\n",
    "from selenium import webdriver\n",
    "from selenium.webdriver.common.by import By\n",
    "from selenium.webdriver.common.keys import Keys\n",
    "from selenium.webdriver.support.ui import WebDriverWait\n",
    "from selenium.webdriver.support import expected_conditions as EC\n",
    "from selenium.webdriver.support.ui import Select\n",
    "from selenium.common.exceptions import NoSuchElementException\n",
    "\n",
    "#Import Other useful libraries\n",
    "import time\n",
    "import pandas as pd\n",
    "from datetime import datetime\n",
    "import csv\n",
    "import requests\n",
    "from bs4 import BeautifulSoup\n",
    "from pathlib import Path\n",
    "import os\n",
    "from urllib.parse import urljoin\n",
    "import time\n",
    "import re"
   ]
  },
  {
   "cell_type": "code",
   "execution_count": 2,
   "id": "999fddd0",
   "metadata": {},
   "outputs": [],
   "source": [
    "df_cities = pd.read_csv(\"C:\\\\Users\\\\mosta\\\\Downloads\\\\csvData.csv\")"
   ]
  },
  {
   "cell_type": "code",
   "execution_count": 3,
   "id": "b159a813",
   "metadata": {},
   "outputs": [],
   "source": [
    "city_names = df_cities.name.unique()"
   ]
  },
  {
   "cell_type": "code",
   "execution_count": 4,
   "id": "2ad0ffc4",
   "metadata": {
    "scrolled": true
   },
   "outputs": [
    {
     "name": "stderr",
     "output_type": "stream",
     "text": [
      "<ipython-input-4-d6c0e790c72a>:11: DeprecationWarning: executable_path has been deprecated, please pass in a Service object\n",
      "  driver = webdriver.Chrome(\"C:\\\\Program Files (x86)\\\\chromedriver.exe\")\n"
     ]
    }
   ],
   "source": [
    "brokers_info = {}\n",
    "\n",
    "brokers_info[\"names\"] = []\n",
    "brokers_info[\"addresses\"] = []\n",
    "brokers_info[\"phones\"] = []\n",
    "brokers_info[\"websites\"] = []\n",
    "brokers_info[\"cities\"] = []\n",
    "brokers_info[\"companies\"] = []\n",
    "\n",
    "\n",
    "driver = webdriver.Chrome(\"C:\\\\Program Files (x86)\\\\chromedriver.exe\")\n",
    "driver.get(\"https://findamortgagebroker.com/\")\n",
    "driver.maximize_window()\n",
    "\n",
    "\n",
    "start = time.time()\n",
    "\n",
    "for city in city_names[:10]:\n",
    "    search = WebDriverWait(driver, 100).until(EC.presence_of_element_located((By.ID, \"contact-search-field\")))\n",
    "    search.clear()\n",
    "    search.send_keys(city)\n",
    "    search.send_keys(Keys.RETURN)\n",
    "\n",
    "    try:\n",
    "        #get the results of page 1\n",
    "        results = WebDriverWait(driver, 100).until(EC.presence_of_element_located((By.ID, \"totalResults\")))\n",
    "        brokers_1 = WebDriverWait(driver, 100).until(EC.presence_of_all_elements_located((By.CLASS_NAME, \"clickable-tile-contact\")))\n",
    "        results_num = int(\"\".join(re.findall(\"[0-9]\", results.text)))\n",
    "        pages_num = (results_num+1)//20\n",
    "        for i in range(len(brokers_1)):\n",
    "            brokers_1 = WebDriverWait(driver, 100).until(EC.presence_of_all_elements_located((By.CLASS_NAME, \"clickable-tile-contact\")))\n",
    "            brokers_1[i].click()\n",
    "            name = WebDriverWait(driver, 100).until(EC.presence_of_element_located((By.CLASS_NAME, \"banner-primary-text\")))\n",
    "            info_div = driver.find_element(By.CLASS_NAME, \"contact-info-list\")\n",
    "            infos = info_div.find_elements(By.TAG_NAME, \"a\")\n",
    "            company_div = driver.find_element(By.CLASS_NAME, \"company-info\")\n",
    "            try:\n",
    "                company = company_div.find_element(By.TAG_NAME,\"h6\").text\n",
    "            except:\n",
    "                company = \"None\"\n",
    "            try:\n",
    "                address = infos[0].text\n",
    "            except IndexError:\n",
    "                address = \"None\"\n",
    "            try:\n",
    "                phone = infos[1].text\n",
    "            except IndexError:\n",
    "                phone = \"None\"\n",
    "            try:\n",
    "                website = infos[2].text\n",
    "            except IndexError:\n",
    "                website = \"None\"          \n",
    "            brokers_info[\"names\"].append(name.text)\n",
    "            brokers_info[\"addresses\"].append(address)\n",
    "            brokers_info[\"phones\"].append(phone)\n",
    "            brokers_info[\"websites\"].append(website)\n",
    "            brokers_info[\"cities\"].append(city)\n",
    "            brokers_info[\"companies\"].append(company)\n",
    "            driver.back()\n",
    "        #get the results of the other pages\n",
    "        for n in range(2,pages_num+1):\n",
    "            x = WebDriverWait(driver, 100).until(\n",
    "            EC.presence_of_element_located((By.ID, \"current-page\")))\n",
    "            drop = Select(x)\n",
    "            drop.select_by_visible_text(f\"{n}\")\n",
    "            time.sleep(2)\n",
    "            brokers = WebDriverWait(driver, 100).until(EC.presence_of_all_elements_located((By.CLASS_NAME, \"clickable-tile-contact\")))\n",
    "            for i in range(len(brokers)):\n",
    "                brokers = WebDriverWait(driver, 100).until(EC.presence_of_all_elements_located((By.CLASS_NAME, \"clickable-tile-contact\")))  \n",
    "                brokers[i].click()\n",
    "                name = WebDriverWait(driver, 100).until(EC.presence_of_element_located((By.CLASS_NAME, \"banner-primary-text\")))\n",
    "                info_div = driver.find_element(By.CLASS_NAME, \"contact-info-list\")\n",
    "                infos = info_div.find_elements(By.TAG_NAME, \"a\")\n",
    "                company_div = driver.find_element(By.CLASS_NAME, \"company-info\")\n",
    "                try:\n",
    "                    company = company_div.find_element(By.TAG_NAME,\"h6\").text\n",
    "                except:\n",
    "                    company = \"None\"\n",
    "                try:\n",
    "                    address = infos[0].text\n",
    "                except IndexError:\n",
    "                    address = \"None\"\n",
    "                try:\n",
    "                    phone = infos[1].text\n",
    "                except IndexError:\n",
    "                    phone = \"None\"\n",
    "                try:\n",
    "                    website = infos[2].text\n",
    "                except IndexError:\n",
    "                    website = \"None\"               \n",
    "                brokers_info[\"names\"].append(name.text)\n",
    "                brokers_info[\"addresses\"].append(address)\n",
    "                brokers_info[\"phones\"].append(phone)\n",
    "                brokers_info[\"websites\"].append(website)\n",
    "                brokers_info[\"cities\"].append(city)\n",
    "                brokers_info[\"companies\"].append(company)\n",
    "                driver.back()\n",
    "    except:\n",
    "        driver.quit()\n",
    "    driver.back()\n",
    "    time.sleep(1)\n",
    "end = time.time()\n",
    "duration = end - start"
   ]
  },
  {
   "cell_type": "code",
   "execution_count": 5,
   "id": "cb424d1d",
   "metadata": {},
   "outputs": [],
   "source": [
    "df = pd.DataFrame(brokers_info)"
   ]
  },
  {
   "cell_type": "code",
   "execution_count": 6,
   "id": "15694550",
   "metadata": {},
   "outputs": [
    {
     "data": {
      "text/html": [
       "<div>\n",
       "<style scoped>\n",
       "    .dataframe tbody tr th:only-of-type {\n",
       "        vertical-align: middle;\n",
       "    }\n",
       "\n",
       "    .dataframe tbody tr th {\n",
       "        vertical-align: top;\n",
       "    }\n",
       "\n",
       "    .dataframe thead th {\n",
       "        text-align: right;\n",
       "    }\n",
       "</style>\n",
       "<table border=\"1\" class=\"dataframe\">\n",
       "  <thead>\n",
       "    <tr style=\"text-align: right;\">\n",
       "      <th></th>\n",
       "      <th>names</th>\n",
       "      <th>addresses</th>\n",
       "      <th>phones</th>\n",
       "      <th>websites</th>\n",
       "      <th>cities</th>\n",
       "      <th>companies</th>\n",
       "    </tr>\n",
       "  </thead>\n",
       "  <tbody>\n",
       "    <tr>\n",
       "      <th>0</th>\n",
       "      <td>David Saraf</td>\n",
       "      <td>711 forest avenue staten island NY 10310</td>\n",
       "      <td>718-720-8600</td>\n",
       "      <td>https://www.tristarmortgage.com/</td>\n",
       "      <td>New York City</td>\n",
       "      <td>Tristar Mortgage Corp</td>\n",
       "    </tr>\n",
       "    <tr>\n",
       "      <th>1</th>\n",
       "      <td>Suresh Budhoo</td>\n",
       "      <td>105-10 Jamaica Avenue Richmond Hill NY 11418</td>\n",
       "      <td>718-845-4800</td>\n",
       "      <td>https://n/A</td>\n",
       "      <td>New York City</td>\n",
       "      <td>S.B. Funding Corp.</td>\n",
       "    </tr>\n",
       "    <tr>\n",
       "      <th>2</th>\n",
       "      <td>Sergey Radoff</td>\n",
       "      <td>2160 NORTH CENTRAL RD Suite 206A Fort Lee NJ 0...</td>\n",
       "      <td>800-353-5114 1</td>\n",
       "      <td>https://www.tristatemortgages.com/</td>\n",
       "      <td>New York City</td>\n",
       "      <td>Tri State Mortgage Corporation</td>\n",
       "    </tr>\n",
       "    <tr>\n",
       "      <th>3</th>\n",
       "      <td>Vadim Zaurov</td>\n",
       "      <td>3430 Sunset Ave. Suite 17 Ocean NJ 07712</td>\n",
       "      <td>7326881726</td>\n",
       "      <td>https://aafcgroup.com/</td>\n",
       "      <td>New York City</td>\n",
       "      <td>AAFC Group LLC</td>\n",
       "    </tr>\n",
       "    <tr>\n",
       "      <th>4</th>\n",
       "      <td>Johny Jack Rukab</td>\n",
       "      <td>711 Forest Ave STATEN ISLAND NY 10310</td>\n",
       "      <td>718-720-8600</td>\n",
       "      <td>https://www.zillow.com/lender-profile/johnyRukab/</td>\n",
       "      <td>New York City</td>\n",
       "      <td>Tristar Mortgage Corp</td>\n",
       "    </tr>\n",
       "  </tbody>\n",
       "</table>\n",
       "</div>"
      ],
      "text/plain": [
       "              names                                          addresses  \\\n",
       "0       David Saraf           711 forest avenue staten island NY 10310   \n",
       "1     Suresh Budhoo       105-10 Jamaica Avenue Richmond Hill NY 11418   \n",
       "2     Sergey Radoff  2160 NORTH CENTRAL RD Suite 206A Fort Lee NJ 0...   \n",
       "3      Vadim Zaurov           3430 Sunset Ave. Suite 17 Ocean NJ 07712   \n",
       "4  Johny Jack Rukab              711 Forest Ave STATEN ISLAND NY 10310   \n",
       "\n",
       "           phones                                           websites  \\\n",
       "0    718-720-8600                   https://www.tristarmortgage.com/   \n",
       "1    718-845-4800                                        https://n/A   \n",
       "2  800-353-5114 1                 https://www.tristatemortgages.com/   \n",
       "3      7326881726                             https://aafcgroup.com/   \n",
       "4    718-720-8600  https://www.zillow.com/lender-profile/johnyRukab/   \n",
       "\n",
       "          cities                       companies  \n",
       "0  New York City           Tristar Mortgage Corp  \n",
       "1  New York City              S.B. Funding Corp.  \n",
       "2  New York City  Tri State Mortgage Corporation  \n",
       "3  New York City                  AAFC Group LLC  \n",
       "4  New York City           Tristar Mortgage Corp  "
      ]
     },
     "execution_count": 6,
     "metadata": {},
     "output_type": "execute_result"
    }
   ],
   "source": [
    "df.head()"
   ]
  },
  {
   "cell_type": "code",
   "execution_count": 10,
   "id": "9cf66908",
   "metadata": {},
   "outputs": [],
   "source": [
    "df.to_csv(\"brokers.csv\")"
   ]
  },
  {
   "cell_type": "code",
   "execution_count": 11,
   "id": "f7e9701f",
   "metadata": {},
   "outputs": [
    {
     "data": {
      "text/plain": [
       "array(['New York City', 'Los Angeles', 'Chicago', 'Houston', 'Phoenix',\n",
       "       'Philadelphia', 'San Antonio', 'San Diego', 'Dallas', 'San Jose'],\n",
       "      dtype=object)"
      ]
     },
     "execution_count": 11,
     "metadata": {},
     "output_type": "execute_result"
    }
   ],
   "source": [
    "df.cities.unique()"
   ]
  },
  {
   "cell_type": "code",
   "execution_count": null,
   "id": "742155f4",
   "metadata": {},
   "outputs": [],
   "source": []
  }
 ],
 "metadata": {
  "kernelspec": {
   "display_name": "Python 3",
   "language": "python",
   "name": "python3"
  },
  "language_info": {
   "codemirror_mode": {
    "name": "ipython",
    "version": 3
   },
   "file_extension": ".py",
   "mimetype": "text/x-python",
   "name": "python",
   "nbconvert_exporter": "python",
   "pygments_lexer": "ipython3",
   "version": "3.8.8"
  }
 },
 "nbformat": 4,
 "nbformat_minor": 5
}
